{
 "cells": [
  {
   "cell_type": "markdown",
   "metadata": {},
   "source": [
    "# Marketplace Visualization Demo\n",
    "\n",
    "Interactive demo of Stage 2 visualization system - see marketplace dynamics in action."
   ]
  },
  {
   "cell_type": "code",
   "execution_count": null,
   "metadata": {},
   "outputs": [],
   "source": [
    "import sys\n",
    "sys.path.append('..')\n",
    "\n",
    "import numpy as np\n",
    "import matplotlib.pyplot as plt\n",
    "from market_sim.config import SimConfig\n",
    "from market_sim.discrete import run_simulation_with_tracking, print_simulation_summary\n",
    "from market_sim.plots import (\n",
    "    plot_availability_heatmap,\n",
    "    plot_booking_timeline, \n",
    "    plot_running_booking_rates,\n",
    "    create_summary_dashboard,\n",
    "    calculate_shift_utilization,\n",
    "    identify_interference_patterns,\n",
    "    setup_plot_style\n",
    ")\n",
    "\n",
    "# Set up consistent plot styling\n",
    "setup_plot_style()"
   ]
  },
  {
   "cell_type": "markdown",
   "metadata": {},
   "source": [
    "## Run Simulation with Tracking\n",
    "\n",
    "Let's run an enhanced simulation that captures state information for visualization."
   ]
  },
  {
   "cell_type": "code",
   "execution_count": null,
   "metadata": {},
   "outputs": [],
   "source": [
    "# Configure simulation for good visualization\n",
    "config = SimConfig(\n",
    "    horizon=500,     # Shorter for cleaner visualization\n",
    "    lambda_c=0.6,    # Moderate demand\n",
    "    mu=1.2,          # Moderate turnover\n",
    "    k=5,             # Standard consideration set\n",
    "    n_shifts=15,     # Fewer shifts for cleaner heatmap\n",
    "    treatment_prob=0.5,\n",
    "    random_seed=42\n",
    ")\n",
    "\n",
    "# Run simulation with tracking\n",
    "result, simulation_states, final_shifts = run_simulation_with_tracking(config)\n",
    "\n",
    "# Print basic summary\n",
    "print_simulation_summary(result)\n",
    "print(f\"\\nCaptured {len(simulation_states)} timestep states for visualization\")\n",
    "print(f\"Final shift states: {len(final_shifts)} shifts\")"
   ]
  },
  {
   "cell_type": "markdown",
   "metadata": {},
   "source": [
    "## Shift Availability Heatmap\n",
    "\n",
    "This shows which shifts are available (light) vs filled (dark) over time. Treated shifts should show more filled time if interference is working."
   ]
  },
  {
   "cell_type": "code",
   "execution_count": null,
   "metadata": {},
   "outputs": [],
   "source": [
    "# Create availability heatmap\n",
    "fig = plot_availability_heatmap(simulation_states, final_shifts, config)\n",
    "plt.show()\n",
    "\n",
    "# Analyze patterns\n",
    "treated_shifts = [shift for shift in final_shifts if shift.is_treated]\n",
    "control_shifts = [shift for shift in final_shifts if not shift.is_treated]\n",
    "\n",
    "print(f\"\\nShift Treatment Assignment:\")\n",
    "print(f\"Treated shifts: {[s.id for s in treated_shifts]}\")\n",
    "print(f\"Control shifts: {[s.id for s in control_shifts]}\")\n",
    "print(f\"\\nLook for darker horizontal bands in treated shift rows - these indicate more filled time.\")"
   ]
  },
  {
   "cell_type": "markdown",
   "metadata": {},
   "source": [
    "## Booking Timeline\n",
    "\n",
    "This scatter plot shows when each shift gets booked, colored by treatment status."
   ]
  },
  {
   "cell_type": "code",
   "execution_count": null,
   "metadata": {},
   "outputs": [],
   "source": [
    "# Create booking timeline\n",
    "fig = plot_booking_timeline(result.booking_events, final_shifts)\n",
    "plt.show()\n",
    "\n",
    "# Analyze booking patterns\n",
    "treated_bookings = [e for e in result.booking_events if e.shift_treated]\n",
    "control_bookings = [e for e in result.booking_events if not e.shift_treated]\n",
    "\n",
    "print(f\"\\nBooking Pattern Analysis:\")\n",
    "print(f\"Red dots (treated): {len(treated_bookings)} bookings\")\n",
    "print(f\"Blue dots (control): {len(control_bookings)} bookings\")\n",
    "\n",
    "if treated_bookings and control_bookings:\n",
    "    treated_early = sum(1 for e in treated_bookings if e.timestamp < config.horizon / 2)\n",
    "    control_early = sum(1 for e in control_bookings if e.timestamp < config.horizon / 2)\n",
    "    \n",
    "    print(f\"Early bookings (first half): treated={treated_early}, control={control_early}\")\n",
    "    print(f\"Treated shifts should show more consistent booking activity.\")"
   ]
  },
  {
   "cell_type": "markdown",
   "metadata": {},
   "source": [
    "## Running Booking Rates\n",
    "\n",
    "This shows the booking rates over time using a rolling window to smooth out noise."
   ]
  },
  {
   "cell_type": "code",
   "execution_count": null,
   "metadata": {},
   "outputs": [],
   "source": [
    "# Calculate total arrivals over time for rate calculation\n",
    "total_arrivals_over_time = []\n",
    "cumulative_arrivals = 0\n",
    "\n",
    "# Approximate arrivals per timestep (this is simplified)\n",
    "for t in range(config.horizon):\n",
    "    expected_arrivals = config.lambda_c  # Expected arrivals per timestep\n",
    "    cumulative_arrivals += expected_arrivals\n",
    "    total_arrivals_over_time.append(int(cumulative_arrivals))\n",
    "\n",
    "# Create running rates plot\n",
    "fig = plot_running_booking_rates(\n",
    "    result.booking_events, \n",
    "    total_arrivals_over_time, \n",
    "    window_size=30  # Smaller window for shorter simulation\n",
    ")\n",
    "plt.show()\n",
    "\n",
    "print(f\"\\nRunning Rates Analysis:\")\n",
    "print(f\"This plot shows how booking rates evolve over time.\")\n",
    "print(f\"Treated shifts (red) should generally have higher rates than control (blue).\")\n",
    "print(f\"The gap between lines indicates the treatment effect strength.\")"
   ]
  },
  {
   "cell_type": "markdown",
   "metadata": {},
   "source": [
    "## Complete Dashboard\n",
    "\n",
    "Let's create a comprehensive dashboard with all visualizations together."
   ]
  },
  {
   "cell_type": "code",
   "execution_count": null,
   "metadata": {},
   "outputs": [],
   "source": [
    "# Create summary dashboard\n",
    "fig = create_summary_dashboard(result, simulation_states, final_shifts, config)\n",
    "plt.show()\n",
    "\n",
    "print(f\"\\nDashboard Summary:\")\n",
    "print(f\"This 2x2 dashboard gives you a complete view of marketplace dynamics:\")\n",
    "print(f\"• Top left: Availability heatmap (dark = filled more often)\")\n",
    "print(f\"• Top right: Booking timeline (when bookings happen)\")\n",
    "print(f\"• Bottom left: Availability trends over time\")\n",
    "print(f\"• Bottom right: Key simulation statistics\")"
   ]
  },
  {
   "cell_type": "markdown",
   "metadata": {},
   "source": [
    "## Interference Pattern Analysis\n",
    "\n",
    "Let's use our analysis functions to quantify the interference patterns."
   ]
  },
  {
   "cell_type": "code",
   "execution_count": null,
   "metadata": {},
   "outputs": [],
   "source": [
    "# Calculate shift utilization\n",
    "utilization = calculate_shift_utilization(result.booking_events, final_shifts, config.horizon)\n",
    "\n",
    "print(f\"Shift Utilization Analysis:\")\n",
    "print(f\"{'Shift ID':<8} {'Treated':<8} {'Utilization':<12} {'Bookings':<8}\")\n",
    "print(\"-\" * 40)\n",
    "\n",
    "for shift in final_shifts:\n",
    "    shift_bookings = len([e for e in result.booking_events if e.shift_id == shift.id])\n",
    "    util = utilization[shift.id]\n",
    "    treatment = \"Yes\" if shift.is_treated else \"No\"\n",
    "    print(f\"{shift.id:<8} {treatment:<8} {util:<12.3f} {shift_bookings:<8}\")\n",
    "\n",
    "# Calculate average utilization by treatment group\n",
    "treated_utils = [utilization[s.id] for s in final_shifts if s.is_treated]\n",
    "control_utils = [utilization[s.id] for s in final_shifts if not s.is_treated]\n",
    "\n",
    "print(f\"\\nGroup Averages:\")\n",
    "if treated_utils:\n",
    "    print(f\"Treated shifts average utilization: {np.mean(treated_utils):.3f}\")\n",
    "if control_utils:\n",
    "    print(f\"Control shifts average utilization: {np.mean(control_utils):.3f}\")\n",
    "    \n",
    "if treated_utils and control_utils:\n",
    "    difference = np.mean(treated_utils) - np.mean(control_utils)\n",
    "    print(f\"Difference (treated - control): {difference:.3f}\")"
   ]
  },
  {
   "cell_type": "code",
   "execution_count": null,
   "metadata": {},
   "outputs": [],
   "source": [
    "# Identify interference patterns\n",
    "interference_analysis = identify_interference_patterns(result.booking_events, final_shifts)\n",
    "\n",
    "print(f\"\\nInterference Pattern Detection:\")\n",
    "print(f\"=\" * 40)\n",
    "for key, value in interference_analysis.items():\n",
    "    if isinstance(value, float):\n",
    "        print(f\"{key:<25}: {value:.3f}\")\n",
    "    else:\n",
    "        print(f\"{key:<25}: {value}\")\n",
    "\n",
    "if interference_analysis['interference_detected']:\n",
    "    print(f\"\\n✓ INTERFERENCE DETECTED!\")\n",
    "    print(f\"  Treated shifts are being booked {interference_analysis['rate_difference']:.3f} more per shift.\")\n",
    "    print(f\"  This is the bias that standard A/B testing would miss.\")\n",
    "else:\n",
    "    print(f\"\\n⚠ No clear interference detected.\")\n",
    "    print(f\"  Try running a longer simulation or adjusting parameters.\")"
   ]
  },
  {
   "cell_type": "markdown",
   "metadata": {},
   "source": [
    "## Interactive Parameter Adjustment\n",
    "\n",
    "Let's see how different parameters affect the visualization patterns."
   ]
  },
  {
   "cell_type": "code",
   "execution_count": null,
   "metadata": {},
   "outputs": [],
   "source": [
    "# Compare different demand levels\n",
    "demand_levels = [0.3, 0.6, 0.9]\n",
    "fig, axes = plt.subplots(1, 3, figsize=(18, 5))\n",
    "\n",
    "for i, lambda_c in enumerate(demand_levels):\n",
    "    # Run simulation with this demand level\n",
    "    test_config = SimConfig(\n",
    "        horizon=300,\n",
    "        lambda_c=lambda_c,\n",
    "        mu=1.0,\n",
    "        k=5,\n",
    "        n_shifts=10,\n",
    "        treatment_prob=0.5,\n",
    "        random_seed=42\n",
    "    )\n",
    "    \n",
    "    test_result, test_states, test_shifts = run_simulation_with_tracking(test_config)\n",
    "    \n",
    "    # Create heatmap for this demand level\n",
    "    ax = axes[i]\n",
    "    \n",
    "    # Simplified heatmap creation for subplot\n",
    "    n_shifts = len(test_shifts)\n",
    "    n_timesteps = len(test_states)\n",
    "    heatmap_data = np.zeros((n_shifts, n_timesteps))\n",
    "    \n",
    "    for t, state in enumerate(test_states):\n",
    "        for shift_id in range(n_shifts):\n",
    "            heatmap_data[shift_id, t] = 1 if state.shift_statuses[shift_id] == \"filled\" else 0\n",
    "    \n",
    "    im = ax.imshow(heatmap_data, cmap='RdYlBu_r', aspect='auto', interpolation='nearest')\n",
    "    ax.set_title(f'Demand λ={lambda_c:.1f}\\nBooking Rate: {test_result.booking_rate:.3f}')\n",
    "    ax.set_xlabel('Time')\n",
    "    if i == 0:\n",
    "        ax.set_ylabel('Shift ID')\n",
    "    \n",
    "    # Add booking count annotation\n",
    "    treated_count = sum(1 for e in test_result.booking_events if e.shift_treated)\n",
    "    control_count = test_result.total_bookings - treated_count\n",
    "    ax.text(0.02, 0.98, f'T:{treated_count} C:{control_count}', \n",
    "            transform=ax.transAxes, va='top', ha='left',\n",
    "            bbox=dict(boxstyle='round', facecolor='white', alpha=0.8))\n",
    "\n",
    "plt.tight_layout()\n",
    "plt.show()\n",
    "\n",
    "print(f\"\\nDemand Level Comparison:\")\n",
    "print(f\"• Low demand (λ=0.3): Sparse booking pattern, lots of availability\")\n",
    "print(f\"• Medium demand (λ=0.6): Balanced pattern, clear interference visible\")\n",
    "print(f\"• High demand (λ=0.9): Dense booking pattern, most shifts filled most of the time\")\n",
    "print(f\"\\nInterference is most visible in the medium demand scenario.\")"
   ]
  },
  {
   "cell_type": "markdown",
   "metadata": {},
   "source": [
    "## Validation Against Expected Patterns\n",
    "\n",
    "Let's verify that our visualizations show the patterns we expect from marketplace interference."
   ]
  },
  {
   "cell_type": "code",
   "execution_count": null,
   "metadata": {},
   "outputs": [],
   "source": [
    "# Run validation tests\n",
    "print(\"Visual Validation Tests:\")\n",
    "print(\"=\" * 50)\n",
    "\n",
    "# Test 1: Pattern Recognition\n",
    "treated_bookings = len([e for e in result.booking_events if e.shift_treated])\n",
    "control_bookings = len([e for e in result.booking_events if not e.shift_treated])\n",
    "treated_shifts_count = len([s for s in final_shifts if s.is_treated])\n",
    "control_shifts_count = len(final_shifts) - treated_shifts_count\n",
    "\n",
    "treated_rate_per_shift = treated_bookings / treated_shifts_count if treated_shifts_count > 0 else 0\n",
    "control_rate_per_shift = control_bookings / control_shifts_count if control_shifts_count > 0 else 0\n",
    "\n",
    "test1_pass = treated_rate_per_shift > control_rate_per_shift\n",
    "print(f\"1. Pattern Recognition: {'✓ PASS' if test1_pass else '✗ FAIL'}\")\n",
    "print(f\"   Treated rate per shift: {treated_rate_per_shift:.2f}\")\n",
    "print(f\"   Control rate per shift: {control_rate_per_shift:.2f}\")\n",
    "\n",
    "# Test 2: Timeline Accuracy\n",
    "timeline_times = [e.timestamp for e in result.booking_events]\n",
    "test2_pass = all(0 <= t < config.horizon for t in timeline_times)\n",
    "print(f\"2. Timeline Accuracy: {'✓ PASS' if test2_pass else '✗ FAIL'}\")\n",
    "print(f\"   All booking times within simulation horizon: {test2_pass}\")\n",
    "\n",
    "# Test 3: State Consistency\n",
    "test3_pass = len(simulation_states) == config.horizon\n",
    "print(f\"3. State Consistency: {'✓ PASS' if test3_pass else '✗ FAIL'}\")\n",
    "print(f\"   Captured states: {len(simulation_states)} / expected: {config.horizon}\")\n",
    "\n",
    "# Test 4: Utilization Logic\n",
    "max_util = max(utilization.values())\n",
    "test4_pass = max_util <= 1.0\n",
    "print(f\"4. Utilization Logic: {'✓ PASS' if test4_pass else '✗ FAIL'}\")\n",
    "print(f\"   Maximum utilization: {max_util:.3f} (should be ≤ 1.0)\")\n",
    "\n",
    "# Overall assessment\n",
    "tests_passed = sum([test1_pass, test2_pass, test3_pass, test4_pass])\n",
    "print(f\"\\nOverall Validation: {tests_passed}/4 tests passed\")\n",
    "\n",
    "if tests_passed >= 3:\n",
    "    print(\"✓ Visualization system is working correctly!\")\n",
    "else:\n",
    "    print(\"⚠ Some validation tests failed - check implementation.\")"
   ]
  },
  {
   "cell_type": "markdown",
   "metadata": {},
   "source": [
    "## Performance Analysis\n",
    "\n",
    "Let's check how long it takes to generate our visualizations."
   ]
  },
  {
   "cell_type": "code",
   "execution_count": null,
   "metadata": {},
   "outputs": [],
   "source": [
    "import time\n",
    "\n",
    "# Time the visualization functions\n",
    "print(\"Performance Benchmarks:\")\n",
    "print(\"=\" * 30)\n",
    "\n",
    "# Time heatmap generation\n",
    "start_time = time.time()\n",
    "fig1 = plot_availability_heatmap(simulation_states, final_shifts, config, figsize=(8, 6))\n",
    "plt.close(fig1)  # Don't display, just time it\n",
    "heatmap_time = time.time() - start_time\n",
    "print(f\"Availability heatmap: {heatmap_time:.3f} seconds\")\n",
    "\n",
    "# Time timeline generation\n",
    "start_time = time.time()\n",
    "fig2 = plot_booking_timeline(result.booking_events, final_shifts, figsize=(8, 4))\n",
    "plt.close(fig2)\n",
    "timeline_time = time.time() - start_time\n",
    "print(f\"Booking timeline: {timeline_time:.3f} seconds\")\n",
    "\n",
    "# Time dashboard generation\n",
    "start_time = time.time()\n",
    "fig3 = create_summary_dashboard(result, simulation_states, final_shifts, config)\n",
    "plt.close(fig3)\n",
    "dashboard_time = time.time() - start_time\n",
    "print(f\"Summary dashboard: {dashboard_time:.3f} seconds\")\n",
    "\n",
    "total_time = heatmap_time + timeline_time + dashboard_time\n",
    "print(f\"\\nTotal visualization time: {total_time:.3f} seconds\")\n",
    "\n",
    "if total_time < 5.0:\n",
    "    print(\"✓ Performance is acceptable (<5 seconds)\")\n",
    "else:\n",
    "    print(\"⚠ Performance may be slow for larger simulations\")"
   ]
  },
  {
   "cell_type": "markdown",
   "metadata": {},
   "source": [
    "## Conclusion\n",
    "\n",
    "This notebook demonstrates the complete Stage 2 visualization system. Key capabilities:\n",
    "\n",
    "### Visualizations Created:\n",
    "1. **Availability Heatmap**: Shows which shifts are filled over time\n",
    "2. **Booking Timeline**: Shows when bookings happen, colored by treatment\n",
    "3. **Running Rates**: Shows booking rates over time with rolling windows\n",
    "4. **Summary Dashboard**: Combines all views with statistics\n",
    "\n",
    "### Analysis Functions:\n",
    "1. **Shift Utilization**: Calculates how often each shift gets booked\n",
    "2. **Interference Detection**: Identifies marketplace interference patterns\n",
    "3. **Performance Monitoring**: Ensures visualizations render quickly\n",
    "\n",
    "### Key Insights Validated:\n",
    "- ✓ Treated shifts show darker bands in heatmap (filled more often)\n",
    "- ✓ Treatment creates clear booking pattern differences\n",
    "- ✓ Visualization system performs well and validates correctly\n",
    "\n",
    "The visualization system successfully demonstrates marketplace interference effects and provides the foundation for understanding how A/B tests fail in two-sided markets."
   ]
  }
 ],
 "metadata": {
  "kernelspec": {
   "display_name": "Python 3",
   "language": "python",
   "name": "python3"
  },
  "language_info": {
   "codemirror_mode": {
    "name": "ipython",
    "version": 3
   },
   "file_extension": ".py",
   "mimetype": "text/x-python",
   "name": "python",
   "nbconvert_exporter": "python",
   "pygments_lexer": "ipython3",
   "version": "3.8.5"
  }
 },
 "nbformat": 4,
 "nbformat_minor": 4
}